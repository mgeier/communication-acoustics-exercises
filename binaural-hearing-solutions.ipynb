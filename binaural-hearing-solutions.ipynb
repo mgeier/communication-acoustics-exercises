{
 "cells": [
  {
   "cell_type": "code",
   "execution_count": null,
   "metadata": {},
   "outputs": [],
   "source": [
    "import numpy as np\n",
    "import soundfile as sf\n",
    "import sounddevice as sd\n",
    "from scipy.signal import fftconvolve\n",
    "import tools"
   ]
  },
  {
   "cell_type": "code",
   "execution_count": null,
   "metadata": {},
   "outputs": [],
   "source": [
    "fs = 44100\n",
    "stddev = 0.2\n",
    "snr = -21\n",
    "\n",
    "speech, fs = sf.read('data/xmas.wav')\n",
    "noise = np.random.normal(scale=stddev, size=(len(speech)))\n",
    "speech *= np.linalg.norm(noise) / np.linalg.norm(speech) * 10**(snr / 20) \n",
    "\n",
    "hrir_center, _ = sf.read('data/hrir00.wav')\n",
    "hrir_lateral, _ = sf.read('data/hrir90.wav')\n",
    "\n",
    "ear_speech_center = np.column_stack([fftconvolve(h, speech) for h in hrir_center.T])\n",
    "ear_noise_center = np.column_stack([fftconvolve(h, noise) for h in hrir_center.T])\n",
    "ear_noise_lateral = np.column_stack([fftconvolve(h, noise) for h in hrir_lateral.T])\n",
    "\n",
    "sd.play(ear_speech_center + ear_noise_center, fs)\n",
    "sd.wait()\n",
    "sd.play(ear_speech_center + ear_noise_lateral, fs)\n",
    "sd.wait()"
   ]
  },
  {
   "cell_type": "code",
   "execution_count": null,
   "metadata": {},
   "outputs": [],
   "source": [
    "def delay_and_attenuate(x, delay, gain, fs=44100):\n",
    "    \"\"\"\n",
    "    Parameters\n",
    "    ----------\n",
    "    x : array_like\n",
    "        Mono signal\n",
    "    delay : float\n",
    "        Delay of the second channel (in milliseconds)\n",
    "    gain : float\n",
    "        Gain of the second channel (in dB)\n",
    "    \"\"\"\n",
    "    d = int(np.round(delay * fs * 0.001))\n",
    "    x = np.tile(np.concatenate((x, np.zeros(np.abs(d))), axis=-1), (2, 1)).T\n",
    "    x[:, 1] = 10**(gain / 20) * np.roll(x[:, 1], d, axis=0)\n",
    "        \n",
    "    return tools.normalize(x, maximum=0.6)"
   ]
  },
  {
   "cell_type": "code",
   "execution_count": null,
   "metadata": {},
   "outputs": [],
   "source": [
    "delay = 3\n",
    "gain = -10\n",
    "s, fs = sf.read('data/xmas.wav')\n",
    "\n",
    "x = delay_and_attenuate(s, delay, gain)\n",
    "\n",
    "sd.play(x, fs)\n",
    "sd.wait()"
   ]
  },
  {
   "cell_type": "code",
   "execution_count": null,
   "metadata": {},
   "outputs": [],
   "source": [
    "def virtual_stereo(x, **kwargs):\n",
    "    \"\"\"\n",
    "    \n",
    "    \"\"\"\n",
    "    # load HRIRs\n",
    "    hright, _ = sf.read('data/hrir30.wav')\n",
    "    hleft = np.roll(hright, 1)\n",
    "\n",
    "    return np.column_stack([fftconvolve(x[:, 0], ir, **kwargs) for ir in hleft.T]) \\\n",
    "            + np.column_stack([fftconvolve(x[:, 1], ir, **kwargs) for ir in hright.T])"
   ]
  },
  {
   "cell_type": "code",
   "execution_count": null,
   "metadata": {},
   "outputs": [],
   "source": [
    "delay = 0\n",
    "gain = 0\n",
    "mono_signal, _ = sf.read('data/xmas.wav')\n",
    "\n",
    "stereo_signal = delay_and_attenuate(mono_signal, delay, gain)\n",
    "y = tools.normalize(virtual_stereo(stereo_signal), maximum=0.6)\n",
    "\n",
    "sd.play(y)\n",
    "sd.wait()"
   ]
  },
  {
   "cell_type": "markdown",
   "metadata": {},
   "source": [
    "<p xmlns:dct=\"http://purl.org/dc/terms/\">\n",
    "  <a rel=\"license\"\n",
    "     href=\"http://creativecommons.org/publicdomain/zero/1.0/\">\n",
    "    <img src=\"http://i.creativecommons.org/p/zero/1.0/88x31.png\" style=\"border-style: none;\" alt=\"CC0\" />\n",
    "  </a>\n",
    "  <br />\n",
    "  To the extent possible under law,\n",
    "  <span rel=\"dct:publisher\" resource=\"[_:publisher]\">the person who associated CC0</span>\n",
    "  with this work has waived all copyright and related or neighboring\n",
    "  rights to this work.\n",
    "</p>"
   ]
  }
 ],
 "metadata": {
  "kernelspec": {
   "display_name": "Python [default]",
   "language": "python",
   "name": "python3"
  },
  "language_info": {
   "codemirror_mode": {
    "name": "ipython",
    "version": 3
   },
   "file_extension": ".py",
   "mimetype": "text/x-python",
   "name": "python",
   "nbconvert_exporter": "python",
   "pygments_lexer": "ipython3",
   "version": "3.5.4"
  }
 },
 "nbformat": 4,
 "nbformat_minor": 1
}
